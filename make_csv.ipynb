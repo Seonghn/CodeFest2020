{
 "cells": [
  {
   "cell_type": "code",
   "execution_count": 1,
   "metadata": {},
   "outputs": [],
   "source": [
    "import os, sys, csv"
   ]
  },
  {
   "cell_type": "code",
   "execution_count": 2,
   "metadata": {},
   "outputs": [],
   "source": [
    "line=[]\n",
    "pathLine=[]\n",
    "dirName=[]\n",
    "def search(dirname):\n",
    "    try:\n",
    "        filenames = os.listdir(dirname)\n",
    "        for filename in filenames:\n",
    "            full_filename = os.path.join(dirname, filename)\n",
    "            if os.path.isdir(full_filename):\n",
    "                search(full_filename)\n",
    "            else:\n",
    "                ext = os.path.splitext(full_filename)[-1]\n",
    "                if ext == '.txt':\n",
    "                    line.append(filename)\n",
    "                    dirName.append(dirname)\n",
    "                    if dirname[-1] == '/':\n",
    "                        pathLine.append(full_filename)\n",
    "                    else:\n",
    "                        pathLine.append(dirname + '/' + filename)\n",
    "    except PermissionError:\n",
    "        pass"
   ]
  },
  {
   "cell_type": "code",
   "execution_count": 3,
   "metadata": {},
   "outputs": [],
   "source": [
    "def readTxt(pathLine, arrName):\n",
    "    with open(pathLine,'r',encoding='utf-8') as f:\n",
    "        for i in f.readlines():\n",
    "            arrName.append(i.replace('\\n',''))"
   ]
  },
  {
   "cell_type": "code",
   "execution_count": 5,
   "metadata": {},
   "outputs": [],
   "source": [
    "search('Z:/0.Dataset/Drebin/contest/callfrequency/malware/')"
   ]
  },
  {
   "cell_type": "code",
   "execution_count": 6,
   "metadata": {},
   "outputs": [
    {
     "data": {
      "text/plain": [
       "5501"
      ]
     },
     "execution_count": 6,
     "metadata": {},
     "output_type": "execute_result"
    }
   ],
   "source": [
    "len(pathLine)"
   ]
  },
  {
   "cell_type": "markdown",
   "metadata": {},
   "source": [
    "a=[0]*len(dk)\n",
    "len(a)"
   ]
  },
  {
   "cell_type": "code",
   "execution_count": 7,
   "metadata": {},
   "outputs": [
    {
     "data": {
      "text/plain": [
       "1849"
      ]
     },
     "execution_count": 7,
     "metadata": {},
     "output_type": "execute_result"
    }
   ],
   "source": [
    "dk = ['apk_name']\n",
    "readTxt('dk_api.txt', dk)\n",
    "len(dk)"
   ]
  },
  {
   "cell_type": "markdown",
   "metadata": {},
   "source": [
    "dk"
   ]
  },
  {
   "cell_type": "markdown",
   "metadata": {},
   "source": [
    "dk[1803]"
   ]
  },
  {
   "cell_type": "code",
   "execution_count": null,
   "metadata": {},
   "outputs": [
    {
     "name": "stdout",
     "output_type": "stream",
     "text": [
      " 5501 / 729"
     ]
    }
   ],
   "source": [
    "with open('E:/workplace/AMD/drebin_fullapi.csv','w',encoding='utf-8',newline='') as f:\n",
    "    wr = csv.writer(f)\n",
    "    wr.writerow(dk)\n",
    "    cc = 0\n",
    "    te = 0\n",
    "    for p in pathLine:\n",
    "        cc += 1\n",
    "        nyName = []\n",
    "        readTxt(p,nyName)\n",
    "        arrName = list(set(nyName))\n",
    "        # len(arrName)\n",
    "        row = [0]*(len(dk)+1)\n",
    "\n",
    "        ccc = 0\n",
    "        for i in dk:\n",
    "            if ccc==0:\n",
    "                row[0] = p.split('/')[-1]\n",
    "            else:\n",
    "                c = 0\n",
    "                for j in arrName:\n",
    "                    c += 1\n",
    "    #                 if j==i:\n",
    "#                     if j.find('Landroid/content/Intent;.addFlags:(I)Landroid/content/Intent;')!=-1:\n",
    "#                         print(nyName.count(j))\n",
    "                    if j == i+' ':\n",
    "                        row[dk.index(i)] = nyName.count(j)\n",
    "#                         row[dk.index(i)] = row[dk.index(i)] +1\n",
    "#                         if row[dk.index(i)] > 1:\n",
    "#                             print(i)\n",
    "    #                     print(dk.index(i))\n",
    "    #                 wr.writerow(row)\n",
    "            ccc += 1\n",
    "    #     print(row[0]+str(te))\n",
    "        wr.writerow(row)\n",
    "#         print(row[0]+str(sum(row[1:])))\n",
    "        te+=1\n",
    "        print('\\r 5501 / ' + str(te),end='')\n",
    "    #             print('\\r' + p + str(cc) + ' ' + str(ccc), end='')\n",
    "\n",
    "    \n",
    "    \n",
    "    "
   ]
  },
  {
   "cell_type": "code",
   "execution_count": null,
   "metadata": {},
   "outputs": [],
   "source": []
  }
 ],
 "metadata": {
  "kernelspec": {
   "display_name": "Python 3",
   "language": "python",
   "name": "python3"
  },
  "language_info": {
   "codemirror_mode": {
    "name": "ipython",
    "version": 3
   },
   "file_extension": ".py",
   "mimetype": "text/x-python",
   "name": "python",
   "nbconvert_exporter": "python",
   "pygments_lexer": "ipython3",
   "version": "3.7.3"
  }
 },
 "nbformat": 4,
 "nbformat_minor": 2
}
